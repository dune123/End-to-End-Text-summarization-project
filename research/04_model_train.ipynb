{
 "cells": [
  {
   "cell_type": "code",
   "execution_count": 1,
   "metadata": {},
   "outputs": [],
   "source": [
    "import os"
   ]
  },
  {
   "cell_type": "code",
   "execution_count": 2,
   "metadata": {},
   "outputs": [
    {
     "data": {
      "text/plain": [
       "'/Users/sameerraj/Desktop/Machine_learning_python/End-to-End-Text-summarization-project/research'"
      ]
     },
     "execution_count": 2,
     "metadata": {},
     "output_type": "execute_result"
    }
   ],
   "source": [
    "%pwd"
   ]
  },
  {
   "cell_type": "code",
   "execution_count": 3,
   "metadata": {},
   "outputs": [],
   "source": [
    "os.chdir(\"../\")"
   ]
  },
  {
   "cell_type": "code",
   "execution_count": 4,
   "metadata": {},
   "outputs": [
    {
     "data": {
      "text/plain": [
       "'/Users/sameerraj/Desktop/Machine_learning_python/End-to-End-Text-summarization-project'"
      ]
     },
     "execution_count": 4,
     "metadata": {},
     "output_type": "execute_result"
    }
   ],
   "source": [
    "%pwd"
   ]
  },
  {
   "cell_type": "code",
   "execution_count": 5,
   "metadata": {},
   "outputs": [],
   "source": [
    "from dataclasses import dataclass\n",
    "from pathlib import Path\n",
    "\n",
    "@dataclass(frozen=True)\n",
    "class ModelTrainerConfig:\n",
    "    root_dir: Path\n",
    "    data_path: Path\n",
    "    model_ckpt: Path\n",
    "    num_train_epochs: int\n",
    "    warmup_steps: int\n",
    "    per_device_train_batch_size: int\n",
    "    weight_decay: float\n",
    "    logging_steps: int\n",
    "    evaluation_steps: int\n",
    "    eval_steps: float\n",
    "    save_steps: float\n",
    "    gradient_accumulation_steps: int"
   ]
  },
  {
   "cell_type": "code",
   "execution_count": 6,
   "metadata": {},
   "outputs": [],
   "source": [
    "from src.textSummarizer.constants import *\n",
    "from src.textSummarizer.utils.common import read_yaml,create_directories"
   ]
  },
  {
   "cell_type": "code",
   "execution_count": 16,
   "metadata": {},
   "outputs": [],
   "source": [
    "class ConfigurationManager:\n",
    "    def __init__(self,config_filepath=CONFIG_FILE_PATH,params_filepath=PARAMS_FILE_PATH):\n",
    "        self.config=read_yaml(config_filepath)\n",
    "        self.params=read_yaml(params_filepath)\n",
    "\n",
    "        create_directories([self.config.artifacts_root])\n",
    "\n",
    "    def get_model_trainer_config(self)->ModelTrainerConfig:\n",
    "\n",
    "        config=self.config.model_trainer\n",
    "        params=self.params.TrainingArguments\n",
    "\n",
    "        create_directories([config.root_dir])\n",
    "\n",
    "        model_trainer_config=ModelTrainerConfig(\n",
    "            root_dir=config.root_dir,\n",
    "            data_path=config.data_path,\n",
    "            model_ckpt=config.model_ckpt,\n",
    "            num_train_epochs=params.num_train_epochs,\n",
    "            warmup_steps=params.warmup_steps,\n",
    "            per_device_train_batch_size=params.per_device_train_batch_size,\n",
    "            weight_decay=params.weight_decay,\n",
    "            logging_steps=params.logging_steps,\n",
    "            evaluation_strategy=params.evaluation_strategy,\n",
    "            eval_steps=params.eval_steps,\n",
    "            save_steps=params.save_steps,\n",
    "            gradient_accumulation_steps=params.gradient_accumulation_steps\n",
    "        )\n",
    "        return model_trainer_config\n"
   ]
  },
  {
   "cell_type": "code",
   "execution_count": 17,
   "metadata": {},
   "outputs": [],
   "source": [
    "from transformers import TrainingArguments, Trainer\n",
    "from transformers import DataCollatorForSeq2Seq\n",
    "from transformers import AutoModelForSeq2SeqLM, AutoTokenizer\n",
    "from datasets import load_dataset, load_from_disk\n",
    "import torch"
   ]
  },
  {
   "cell_type": "code",
   "execution_count": 18,
   "metadata": {},
   "outputs": [],
   "source": [
    "class ModelTrainer:\n",
    "    def __init__(self,config: ModelTrainerConfig):\n",
    "        self.config=config\n",
    "\n",
    "    def train(self):\n",
    "        device = \"cuda\" if torch.cuda.is_available() else \"cpu\"\n",
    "        tokenizer = AutoTokenizer.from_pretrained(self.config.model_ckpt)\n",
    "        model_pegasus = AutoModelForSeq2SeqLM.from_pretrained(self.config.model_ckpt).to(device)\n",
    "        seq2seq_data_collator = DataCollatorForSeq2Seq(tokenizer, model=model_pegasus)\n",
    "        \n",
    "        #loading data \n",
    "        dataset_samsum_pt = load_from_disk(self.config.data_path)\n",
    "\n",
    "        trainer_args = TrainingArguments(\n",
    "            output_dir=self.config.root_dir, num_train_epochs=1, warmup_steps=500,\n",
    "            per_device_train_batch_size=1, per_device_eval_batch_size=1,\n",
    "            weight_decay=0.01, logging_steps=10,\n",
    "            evaluation_strategy='steps', eval_steps=500, save_steps=1e6,\n",
    "            gradient_accumulation_steps=16\n",
    "        ) \n",
    "\n",
    "        trainer = Trainer(model=model_pegasus, args=trainer_args,\n",
    "                  tokenizer=tokenizer, data_collator=seq2seq_data_collator,\n",
    "                  train_dataset=dataset_samsum_pt[\"test\"], \n",
    "                  eval_dataset=dataset_samsum_pt[\"validation\"])\n",
    "        \n",
    "        trainer.train()\n",
    "\n",
    "        ## Save model\n",
    "        model_pegasus.save_pretrained(os.path.join(self.config.root_dir,\"pegasus-samsum-model\"))\n",
    "        ## Save tokenizer\n",
    "        tokenizer.save_pretrained(os.path.join(self.config.root_dir,\"tokenizer\"))"
   ]
  },
  {
   "cell_type": "code",
   "execution_count": 19,
   "metadata": {},
   "outputs": [
    {
     "name": "stdout",
     "output_type": "stream",
     "text": [
      "[2023-11-21 15:44:29,949: INFO: common: yaml file: /Users/sameerraj/Desktop/Machine_learning_python/End-to-End-Text-summarization-project/config/config.yaml loaded successfully]\n",
      "[2023-11-21 15:44:29,951: INFO: common: yaml file: params.yaml loaded successfully]\n",
      "[2023-11-21 15:44:29,952: INFO: common: created directory at: artifacts]\n",
      "[2023-11-21 15:44:29,952: INFO: common: created directory at: artifacts/model_trainer]\n"
     ]
    },
    {
     "ename": "TypeError",
     "evalue": "ModelTrainerConfig.__init__() got an unexpected keyword argument 'evaluation_strategy'",
     "output_type": "error",
     "traceback": [
      "\u001b[0;31m---------------------------------------------------------------------------\u001b[0m",
      "\u001b[0;31mTypeError\u001b[0m                                 Traceback (most recent call last)",
      "\u001b[1;32m/Users/sameerraj/Desktop/Machine_learning_python/End-to-End-Text-summarization-project/research/04_model_train.ipynb Cell 10\u001b[0m line \u001b[0;36m7\n\u001b[1;32m      <a href='vscode-notebook-cell:/Users/sameerraj/Desktop/Machine_learning_python/End-to-End-Text-summarization-project/research/04_model_train.ipynb#X13sZmlsZQ%3D%3D?line=4'>5</a>\u001b[0m     model_trainer_config\u001b[39m.\u001b[39mtrain()\n\u001b[1;32m      <a href='vscode-notebook-cell:/Users/sameerraj/Desktop/Machine_learning_python/End-to-End-Text-summarization-project/research/04_model_train.ipynb#X13sZmlsZQ%3D%3D?line=5'>6</a>\u001b[0m \u001b[39mexcept\u001b[39;00m \u001b[39mException\u001b[39;00m \u001b[39mas\u001b[39;00m e:\n\u001b[0;32m----> <a href='vscode-notebook-cell:/Users/sameerraj/Desktop/Machine_learning_python/End-to-End-Text-summarization-project/research/04_model_train.ipynb#X13sZmlsZQ%3D%3D?line=6'>7</a>\u001b[0m     \u001b[39mraise\u001b[39;00m e\n",
      "\u001b[1;32m/Users/sameerraj/Desktop/Machine_learning_python/End-to-End-Text-summarization-project/research/04_model_train.ipynb Cell 10\u001b[0m line \u001b[0;36m3\n\u001b[1;32m      <a href='vscode-notebook-cell:/Users/sameerraj/Desktop/Machine_learning_python/End-to-End-Text-summarization-project/research/04_model_train.ipynb#X13sZmlsZQ%3D%3D?line=0'>1</a>\u001b[0m \u001b[39mtry\u001b[39;00m:\n\u001b[1;32m      <a href='vscode-notebook-cell:/Users/sameerraj/Desktop/Machine_learning_python/End-to-End-Text-summarization-project/research/04_model_train.ipynb#X13sZmlsZQ%3D%3D?line=1'>2</a>\u001b[0m     config \u001b[39m=\u001b[39m ConfigurationManager()\n\u001b[0;32m----> <a href='vscode-notebook-cell:/Users/sameerraj/Desktop/Machine_learning_python/End-to-End-Text-summarization-project/research/04_model_train.ipynb#X13sZmlsZQ%3D%3D?line=2'>3</a>\u001b[0m     model_trainer_config \u001b[39m=\u001b[39m config\u001b[39m.\u001b[39;49mget_model_trainer_config()\n\u001b[1;32m      <a href='vscode-notebook-cell:/Users/sameerraj/Desktop/Machine_learning_python/End-to-End-Text-summarization-project/research/04_model_train.ipynb#X13sZmlsZQ%3D%3D?line=3'>4</a>\u001b[0m     model_trainer_config \u001b[39m=\u001b[39m ModelTrainer(config\u001b[39m=\u001b[39mmodel_trainer_config)\n\u001b[1;32m      <a href='vscode-notebook-cell:/Users/sameerraj/Desktop/Machine_learning_python/End-to-End-Text-summarization-project/research/04_model_train.ipynb#X13sZmlsZQ%3D%3D?line=4'>5</a>\u001b[0m     model_trainer_config\u001b[39m.\u001b[39mtrain()\n",
      "\u001b[1;32m/Users/sameerraj/Desktop/Machine_learning_python/End-to-End-Text-summarization-project/research/04_model_train.ipynb Cell 10\u001b[0m line \u001b[0;36m1\n\u001b[1;32m     <a href='vscode-notebook-cell:/Users/sameerraj/Desktop/Machine_learning_python/End-to-End-Text-summarization-project/research/04_model_train.ipynb#X13sZmlsZQ%3D%3D?line=10'>11</a>\u001b[0m params\u001b[39m=\u001b[39m\u001b[39mself\u001b[39m\u001b[39m.\u001b[39mparams\u001b[39m.\u001b[39mTrainingArguments\n\u001b[1;32m     <a href='vscode-notebook-cell:/Users/sameerraj/Desktop/Machine_learning_python/End-to-End-Text-summarization-project/research/04_model_train.ipynb#X13sZmlsZQ%3D%3D?line=12'>13</a>\u001b[0m create_directories([config\u001b[39m.\u001b[39mroot_dir])\n\u001b[0;32m---> <a href='vscode-notebook-cell:/Users/sameerraj/Desktop/Machine_learning_python/End-to-End-Text-summarization-project/research/04_model_train.ipynb#X13sZmlsZQ%3D%3D?line=14'>15</a>\u001b[0m model_trainer_config\u001b[39m=\u001b[39mModelTrainerConfig(\n\u001b[1;32m     <a href='vscode-notebook-cell:/Users/sameerraj/Desktop/Machine_learning_python/End-to-End-Text-summarization-project/research/04_model_train.ipynb#X13sZmlsZQ%3D%3D?line=15'>16</a>\u001b[0m     root_dir\u001b[39m=\u001b[39;49mconfig\u001b[39m.\u001b[39;49mroot_dir,\n\u001b[1;32m     <a href='vscode-notebook-cell:/Users/sameerraj/Desktop/Machine_learning_python/End-to-End-Text-summarization-project/research/04_model_train.ipynb#X13sZmlsZQ%3D%3D?line=16'>17</a>\u001b[0m     data_path\u001b[39m=\u001b[39;49mconfig\u001b[39m.\u001b[39;49mdata_path,\n\u001b[1;32m     <a href='vscode-notebook-cell:/Users/sameerraj/Desktop/Machine_learning_python/End-to-End-Text-summarization-project/research/04_model_train.ipynb#X13sZmlsZQ%3D%3D?line=17'>18</a>\u001b[0m     model_ckpt\u001b[39m=\u001b[39;49mconfig\u001b[39m.\u001b[39;49mmodel_ckpt,\n\u001b[1;32m     <a href='vscode-notebook-cell:/Users/sameerraj/Desktop/Machine_learning_python/End-to-End-Text-summarization-project/research/04_model_train.ipynb#X13sZmlsZQ%3D%3D?line=18'>19</a>\u001b[0m     num_train_epochs\u001b[39m=\u001b[39;49mparams\u001b[39m.\u001b[39;49mnum_train_epochs,\n\u001b[1;32m     <a href='vscode-notebook-cell:/Users/sameerraj/Desktop/Machine_learning_python/End-to-End-Text-summarization-project/research/04_model_train.ipynb#X13sZmlsZQ%3D%3D?line=19'>20</a>\u001b[0m     warmup_steps\u001b[39m=\u001b[39;49mparams\u001b[39m.\u001b[39;49mwarmup_steps,\n\u001b[1;32m     <a href='vscode-notebook-cell:/Users/sameerraj/Desktop/Machine_learning_python/End-to-End-Text-summarization-project/research/04_model_train.ipynb#X13sZmlsZQ%3D%3D?line=20'>21</a>\u001b[0m     per_device_train_batch_size\u001b[39m=\u001b[39;49mparams\u001b[39m.\u001b[39;49mper_device_train_batch_size,\n\u001b[1;32m     <a href='vscode-notebook-cell:/Users/sameerraj/Desktop/Machine_learning_python/End-to-End-Text-summarization-project/research/04_model_train.ipynb#X13sZmlsZQ%3D%3D?line=21'>22</a>\u001b[0m     weight_decay\u001b[39m=\u001b[39;49mparams\u001b[39m.\u001b[39;49mweight_decay,\n\u001b[1;32m     <a href='vscode-notebook-cell:/Users/sameerraj/Desktop/Machine_learning_python/End-to-End-Text-summarization-project/research/04_model_train.ipynb#X13sZmlsZQ%3D%3D?line=22'>23</a>\u001b[0m     logging_steps\u001b[39m=\u001b[39;49mparams\u001b[39m.\u001b[39;49mlogging_steps,\n\u001b[1;32m     <a href='vscode-notebook-cell:/Users/sameerraj/Desktop/Machine_learning_python/End-to-End-Text-summarization-project/research/04_model_train.ipynb#X13sZmlsZQ%3D%3D?line=23'>24</a>\u001b[0m     evaluation_strategy\u001b[39m=\u001b[39;49mparams\u001b[39m.\u001b[39;49mevaluation_strategy,\n\u001b[1;32m     <a href='vscode-notebook-cell:/Users/sameerraj/Desktop/Machine_learning_python/End-to-End-Text-summarization-project/research/04_model_train.ipynb#X13sZmlsZQ%3D%3D?line=24'>25</a>\u001b[0m     eval_steps\u001b[39m=\u001b[39;49mparams\u001b[39m.\u001b[39;49meval_steps,\n\u001b[1;32m     <a href='vscode-notebook-cell:/Users/sameerraj/Desktop/Machine_learning_python/End-to-End-Text-summarization-project/research/04_model_train.ipynb#X13sZmlsZQ%3D%3D?line=25'>26</a>\u001b[0m     save_steps\u001b[39m=\u001b[39;49mparams\u001b[39m.\u001b[39;49msave_steps,\n\u001b[1;32m     <a href='vscode-notebook-cell:/Users/sameerraj/Desktop/Machine_learning_python/End-to-End-Text-summarization-project/research/04_model_train.ipynb#X13sZmlsZQ%3D%3D?line=26'>27</a>\u001b[0m     gradient_accumulation_steps\u001b[39m=\u001b[39;49mparams\u001b[39m.\u001b[39;49mgradient_accumulation_steps\n\u001b[1;32m     <a href='vscode-notebook-cell:/Users/sameerraj/Desktop/Machine_learning_python/End-to-End-Text-summarization-project/research/04_model_train.ipynb#X13sZmlsZQ%3D%3D?line=27'>28</a>\u001b[0m )\n\u001b[1;32m     <a href='vscode-notebook-cell:/Users/sameerraj/Desktop/Machine_learning_python/End-to-End-Text-summarization-project/research/04_model_train.ipynb#X13sZmlsZQ%3D%3D?line=28'>29</a>\u001b[0m \u001b[39mreturn\u001b[39;00m model_trainer_config\n",
      "\u001b[0;31mTypeError\u001b[0m: ModelTrainerConfig.__init__() got an unexpected keyword argument 'evaluation_strategy'"
     ]
    }
   ],
   "source": [
    "try:\n",
    "    config = ConfigurationManager()\n",
    "    model_trainer_config = config.get_model_trainer_config()\n",
    "    model_trainer_config = ModelTrainer(config=model_trainer_config)\n",
    "    model_trainer_config.train()\n",
    "except Exception as e:\n",
    "    raise e"
   ]
  },
  {
   "cell_type": "code",
   "execution_count": null,
   "metadata": {},
   "outputs": [],
   "source": []
  },
  {
   "cell_type": "code",
   "execution_count": null,
   "metadata": {},
   "outputs": [],
   "source": []
  }
 ],
 "metadata": {
  "kernelspec": {
   "display_name": "venv",
   "language": "python",
   "name": "python3"
  },
  "language_info": {
   "codemirror_mode": {
    "name": "ipython",
    "version": 3
   },
   "file_extension": ".py",
   "mimetype": "text/x-python",
   "name": "python",
   "nbconvert_exporter": "python",
   "pygments_lexer": "ipython3",
   "version": "3.11.4"
  }
 },
 "nbformat": 4,
 "nbformat_minor": 2
}
