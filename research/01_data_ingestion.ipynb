{
 "cells": [
  {
   "cell_type": "code",
   "execution_count": 1,
   "metadata": {},
   "outputs": [],
   "source": [
    "import os"
   ]
  },
  {
   "cell_type": "code",
   "execution_count": 2,
   "metadata": {},
   "outputs": [
    {
     "data": {
      "text/plain": [
       "'/Users/sameerraj/Desktop/Machine_learning_python/End-to-End-Text-summarization-project/research'"
      ]
     },
     "execution_count": 2,
     "metadata": {},
     "output_type": "execute_result"
    }
   ],
   "source": [
    "%pwd"
   ]
  },
  {
   "cell_type": "code",
   "execution_count": 3,
   "metadata": {},
   "outputs": [],
   "source": [
    "os.chdir(\"../\")"
   ]
  },
  {
   "cell_type": "code",
   "execution_count": 4,
   "metadata": {},
   "outputs": [
    {
     "data": {
      "text/plain": [
       "'/Users/sameerraj/Desktop/Machine_learning_python/End-to-End-Text-summarization-project'"
      ]
     },
     "execution_count": 4,
     "metadata": {},
     "output_type": "execute_result"
    }
   ],
   "source": [
    "%pwd"
   ]
  },
  {
   "cell_type": "code",
   "execution_count": 5,
   "metadata": {},
   "outputs": [],
   "source": [
    "from dataclasses import dataclass\n",
    "from pathlib import Path\n",
    "\n",
    "@dataclass(frozen=True)\n",
    "class DataIngestionConfig:\n",
    "    root_dir: Path\n",
    "    source_URL: str\n",
    "    local_data_file: Path\n",
    "    unzip_dir: Path"
   ]
  },
  {
   "cell_type": "code",
   "execution_count": 6,
   "metadata": {},
   "outputs": [],
   "source": [
    "from src.textSummarizer.constants import *\n",
    "from src.textSummarizer.utils.common import read_yaml, create_directories"
   ]
  },
  {
   "cell_type": "code",
   "execution_count": 7,
   "metadata": {},
   "outputs": [],
   "source": [
    "class ConfigurationManager:\n",
    "    def __init__(\n",
    "        self,\n",
    "        config_filepath = CONFIG_FILE_PATH,\n",
    "        params_filepath = PARAMS_FILE_PATH):\n",
    "\n",
    "        self.config = read_yaml(config_filepath)\n",
    "        self.params = read_yaml(params_filepath)\n",
    "\n",
    "        create_directories([self.config.artifacts_root])\n",
    "\n",
    "    \n",
    "\n",
    "    def get_data_ingestion_config(self) -> DataIngestionConfig:\n",
    "        config = self.config.data_ingestion\n",
    "\n",
    "        create_directories([config.root_dir])\n",
    "\n",
    "        data_ingestion_config = DataIngestionConfig(\n",
    "            root_dir=config.root_dir,\n",
    "            source_URL=config.source_URL,\n",
    "            local_data_file=config.local_data_file,\n",
    "            unzip_dir=config.unzip_dir \n",
    "        )\n",
    "\n",
    "        return data_ingestion_config"
   ]
  },
  {
   "cell_type": "markdown",
   "metadata": {},
   "source": []
  },
  {
   "cell_type": "code",
   "execution_count": 8,
   "metadata": {},
   "outputs": [],
   "source": [
    "import os\n",
    "import urllib.request as request\n",
    "import zipfile\n",
    "from src.textSummarizer.logging import logger\n",
    "from src.textSummarizer.utils.common import get_size"
   ]
  },
  {
   "cell_type": "code",
   "execution_count": 9,
   "metadata": {},
   "outputs": [],
   "source": [
    "class DataIngestion:\n",
    "    def __init__(self, config: DataIngestionConfig):\n",
    "        self.config = config\n",
    "\n",
    "\n",
    "    \n",
    "    def download_file(self):\n",
    "        if not os.path.exists(self.config.local_data_file):\n",
    "            filename, headers = request.urlretrieve(\n",
    "                url = self.config.source_URL,\n",
    "                filename = self.config.local_data_file\n",
    "            )\n",
    "            logger.info(f\"{filename} download! with following info: \\n{headers}\")\n",
    "        else:\n",
    "            logger.info(f\"File already exists of size: {get_size(Path(self.config.local_data_file))}\")  \n",
    "\n",
    "        \n",
    "    \n",
    "    def extract_zip_file(self):\n",
    "        \"\"\"\n",
    "        zip_file_path: str\n",
    "        Extracts the zip file into the data directory\n",
    "        Function returns None\n",
    "        \"\"\"\n",
    "        unzip_path = self.config.unzip_dir\n",
    "        os.makedirs(unzip_path, exist_ok=True)\n",
    "        with zipfile.ZipFile(self.config.local_data_file, 'r') as zip_ref:\n",
    "            zip_ref.extractall(unzip_path)"
   ]
  },
  {
   "cell_type": "code",
   "execution_count": 10,
   "metadata": {},
   "outputs": [
    {
     "name": "stdout",
     "output_type": "stream",
     "text": [
      "[2023-11-20 09:25:59,294: INFO: common: yaml file: /Users/sameerraj/Desktop/Machine_learning_python/End-to-End-Text-summarization-project/config/config.yaml loaded successfully]\n",
      "[2023-11-20 09:25:59,297: INFO: common: yaml file: params.yaml loaded successfully]\n",
      "[2023-11-20 09:25:59,298: INFO: common: created directory at: artifacts]\n",
      "[2023-11-20 09:25:59,299: INFO: common: created directory at: artifacts/data_ingestion]\n"
     ]
    },
    {
     "ename": "FileExistsError",
     "evalue": "[Errno 17] File exists: '/Users/sameerraj/Desktop/Machine_learning_python/End-to-End-Text-summarization-project/artifacts/data_ingestion/data.zip'",
     "output_type": "error",
     "traceback": [
      "\u001b[0;31m---------------------------------------------------------------------------\u001b[0m",
      "\u001b[0;31mFileExistsError\u001b[0m                           Traceback (most recent call last)",
      "\u001b[1;32m/Users/sameerraj/Desktop/Machine_learning_python/End-to-End-Text-summarization-project/research/01_data_ingestion.ipynb Cell 11\u001b[0m line \u001b[0;36m8\n\u001b[1;32m      <a href='vscode-notebook-cell:/Users/sameerraj/Desktop/Machine_learning_python/End-to-End-Text-summarization-project/research/01_data_ingestion.ipynb#X12sZmlsZQ%3D%3D?line=5'>6</a>\u001b[0m     data_ingestion\u001b[39m.\u001b[39mextract_zip_file()\n\u001b[1;32m      <a href='vscode-notebook-cell:/Users/sameerraj/Desktop/Machine_learning_python/End-to-End-Text-summarization-project/research/01_data_ingestion.ipynb#X12sZmlsZQ%3D%3D?line=6'>7</a>\u001b[0m \u001b[39mexcept\u001b[39;00m \u001b[39mException\u001b[39;00m \u001b[39mas\u001b[39;00m e:\n\u001b[0;32m----> <a href='vscode-notebook-cell:/Users/sameerraj/Desktop/Machine_learning_python/End-to-End-Text-summarization-project/research/01_data_ingestion.ipynb#X12sZmlsZQ%3D%3D?line=7'>8</a>\u001b[0m     \u001b[39mraise\u001b[39;00m e\n",
      "\u001b[1;32m/Users/sameerraj/Desktop/Machine_learning_python/End-to-End-Text-summarization-project/research/01_data_ingestion.ipynb Cell 11\u001b[0m line \u001b[0;36m6\n\u001b[1;32m      <a href='vscode-notebook-cell:/Users/sameerraj/Desktop/Machine_learning_python/End-to-End-Text-summarization-project/research/01_data_ingestion.ipynb#X12sZmlsZQ%3D%3D?line=3'>4</a>\u001b[0m     data_ingestion \u001b[39m=\u001b[39m DataIngestion(config\u001b[39m=\u001b[39mdata_ingestion_config)\n\u001b[1;32m      <a href='vscode-notebook-cell:/Users/sameerraj/Desktop/Machine_learning_python/End-to-End-Text-summarization-project/research/01_data_ingestion.ipynb#X12sZmlsZQ%3D%3D?line=4'>5</a>\u001b[0m     \u001b[39m#data_ingestion.download_file()\u001b[39;00m\n\u001b[0;32m----> <a href='vscode-notebook-cell:/Users/sameerraj/Desktop/Machine_learning_python/End-to-End-Text-summarization-project/research/01_data_ingestion.ipynb#X12sZmlsZQ%3D%3D?line=5'>6</a>\u001b[0m     data_ingestion\u001b[39m.\u001b[39;49mextract_zip_file()\n\u001b[1;32m      <a href='vscode-notebook-cell:/Users/sameerraj/Desktop/Machine_learning_python/End-to-End-Text-summarization-project/research/01_data_ingestion.ipynb#X12sZmlsZQ%3D%3D?line=6'>7</a>\u001b[0m \u001b[39mexcept\u001b[39;00m \u001b[39mException\u001b[39;00m \u001b[39mas\u001b[39;00m e:\n\u001b[1;32m      <a href='vscode-notebook-cell:/Users/sameerraj/Desktop/Machine_learning_python/End-to-End-Text-summarization-project/research/01_data_ingestion.ipynb#X12sZmlsZQ%3D%3D?line=7'>8</a>\u001b[0m     \u001b[39mraise\u001b[39;00m e\n",
      "\u001b[1;32m/Users/sameerraj/Desktop/Machine_learning_python/End-to-End-Text-summarization-project/research/01_data_ingestion.ipynb Cell 11\u001b[0m line \u001b[0;36m2\n\u001b[1;32m     <a href='vscode-notebook-cell:/Users/sameerraj/Desktop/Machine_learning_python/End-to-End-Text-summarization-project/research/01_data_ingestion.ipynb#X12sZmlsZQ%3D%3D?line=19'>20</a>\u001b[0m \u001b[39m\u001b[39m\u001b[39m\"\"\"\u001b[39;00m\n\u001b[1;32m     <a href='vscode-notebook-cell:/Users/sameerraj/Desktop/Machine_learning_python/End-to-End-Text-summarization-project/research/01_data_ingestion.ipynb#X12sZmlsZQ%3D%3D?line=20'>21</a>\u001b[0m \u001b[39mzip_file_path: str\u001b[39;00m\n\u001b[1;32m     <a href='vscode-notebook-cell:/Users/sameerraj/Desktop/Machine_learning_python/End-to-End-Text-summarization-project/research/01_data_ingestion.ipynb#X12sZmlsZQ%3D%3D?line=21'>22</a>\u001b[0m \u001b[39mExtracts the zip file into the data directory\u001b[39;00m\n\u001b[1;32m     <a href='vscode-notebook-cell:/Users/sameerraj/Desktop/Machine_learning_python/End-to-End-Text-summarization-project/research/01_data_ingestion.ipynb#X12sZmlsZQ%3D%3D?line=22'>23</a>\u001b[0m \u001b[39mFunction returns None\u001b[39;00m\n\u001b[1;32m     <a href='vscode-notebook-cell:/Users/sameerraj/Desktop/Machine_learning_python/End-to-End-Text-summarization-project/research/01_data_ingestion.ipynb#X12sZmlsZQ%3D%3D?line=23'>24</a>\u001b[0m \u001b[39m\"\"\"\u001b[39;00m\n\u001b[1;32m     <a href='vscode-notebook-cell:/Users/sameerraj/Desktop/Machine_learning_python/End-to-End-Text-summarization-project/research/01_data_ingestion.ipynb#X12sZmlsZQ%3D%3D?line=24'>25</a>\u001b[0m unzip_path \u001b[39m=\u001b[39m \u001b[39mself\u001b[39m\u001b[39m.\u001b[39mconfig\u001b[39m.\u001b[39munzip_dir\n\u001b[0;32m---> <a href='vscode-notebook-cell:/Users/sameerraj/Desktop/Machine_learning_python/End-to-End-Text-summarization-project/research/01_data_ingestion.ipynb#X12sZmlsZQ%3D%3D?line=25'>26</a>\u001b[0m os\u001b[39m.\u001b[39;49mmakedirs(unzip_path, exist_ok\u001b[39m=\u001b[39;49m\u001b[39mTrue\u001b[39;49;00m)\n\u001b[1;32m     <a href='vscode-notebook-cell:/Users/sameerraj/Desktop/Machine_learning_python/End-to-End-Text-summarization-project/research/01_data_ingestion.ipynb#X12sZmlsZQ%3D%3D?line=26'>27</a>\u001b[0m \u001b[39mwith\u001b[39;00m zipfile\u001b[39m.\u001b[39mZipFile(\u001b[39mself\u001b[39m\u001b[39m.\u001b[39mconfig\u001b[39m.\u001b[39mlocal_data_file, \u001b[39m'\u001b[39m\u001b[39mr\u001b[39m\u001b[39m'\u001b[39m) \u001b[39mas\u001b[39;00m zip_ref:\n\u001b[1;32m     <a href='vscode-notebook-cell:/Users/sameerraj/Desktop/Machine_learning_python/End-to-End-Text-summarization-project/research/01_data_ingestion.ipynb#X12sZmlsZQ%3D%3D?line=27'>28</a>\u001b[0m     zip_ref\u001b[39m.\u001b[39mextractall(unzip_path)\n",
      "File \u001b[0;32m<frozen os>:225\u001b[0m, in \u001b[0;36mmakedirs\u001b[0;34m(name, mode, exist_ok)\u001b[0m\n",
      "\u001b[0;31mFileExistsError\u001b[0m: [Errno 17] File exists: '/Users/sameerraj/Desktop/Machine_learning_python/End-to-End-Text-summarization-project/artifacts/data_ingestion/data.zip'"
     ]
    }
   ],
   "source": [
    "try:\n",
    "    config = ConfigurationManager()\n",
    "    data_ingestion_config = config.get_data_ingestion_config()\n",
    "    data_ingestion = DataIngestion(config=data_ingestion_config)\n",
    "    #data_ingestion.download_file()\n",
    "    data_ingestion.extract_zip_file()\n",
    "except Exception as e:\n",
    "    raise e"
   ]
  },
  {
   "cell_type": "code",
   "execution_count": null,
   "metadata": {},
   "outputs": [],
   "source": []
  }
 ],
 "metadata": {
  "kernelspec": {
   "display_name": "venv",
   "language": "python",
   "name": "python3"
  },
  "language_info": {
   "codemirror_mode": {
    "name": "ipython",
    "version": 3
   },
   "file_extension": ".py",
   "mimetype": "text/x-python",
   "name": "python",
   "nbconvert_exporter": "python",
   "pygments_lexer": "ipython3",
   "version": "3.11.4"
  }
 },
 "nbformat": 4,
 "nbformat_minor": 2
}
